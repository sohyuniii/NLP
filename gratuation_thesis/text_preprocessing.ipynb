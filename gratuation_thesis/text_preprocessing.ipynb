{
 "cells": [
  {
   "cell_type": "code",
   "execution_count": 1,
   "metadata": {},
   "outputs": [],
   "source": [
    "import json\n",
    "import os\n",
    "from collections import Counter\n",
    "import pandas as pd\n",
    "import numpy as np\n",
    "import glob\n",
    "import matplotlib.pyplot as plt\n",
    "import seaborn as sns"
   ]
  },
  {
   "cell_type": "code",
   "execution_count": 271,
   "metadata": {},
   "outputs": [],
   "source": [
    "review = {}\n",
    "with open('review_ko_dict.json','r',encoding='utf-8') as fp:\n",
    "        review.update(json.load(fp))"
   ]
  },
  {
   "cell_type": "code",
   "execution_count": 272,
   "metadata": {},
   "outputs": [
    {
     "data": {
      "text/plain": [
       "[[5, '정말 편하게 지낼 수 있고 매일 즐길 수 있는 곳이입니다. 추천합니다.'],\n",
       " [5, '전반적으로 모두 마음에 들었습니다. 지내기에 불편한점이 없습니다'],\n",
       " [5,\n",
       "  '가성비넘나좋네요 원래 일주일예약했다가 방이 괜찮아서 2일 추가해서 살았습니다 너무좋은말만해서 최상급의 기대까진 마세요 다만 이 가격에 이정도 방은 찾기힘들것같아요']]"
      ]
     },
     "execution_count": 272,
     "metadata": {},
     "output_type": "execute_result"
    }
   ],
   "source": [
    "review['10010172']"
   ]
  },
  {
   "cell_type": "code",
   "execution_count": 273,
   "metadata": {},
   "outputs": [],
   "source": [
    "review_ko = {}\n",
    "\n",
    "for home_id,rev_lst in review.items():\n",
    "    review_ko[home_id] = []\n",
    "    for rev in rev_lst:\n",
    "        if  (rev[0] > 2) & (rev[0] < 4) :\n",
    "            review_ko[home_id].append([rev[0],rev[1]])\n",
    "        else:\n",
    "            continue"
   ]
  },
  {
   "cell_type": "code",
   "execution_count": 274,
   "metadata": {},
   "outputs": [
    {
     "name": "stdout",
     "output_type": "stream",
     "text": [
      "number of reviews :  3337\n"
     ]
    }
   ],
   "source": [
    "review_total = []\n",
    "for home_id,rev_lst in review_ko.items():\n",
    "    for rev in rev_lst :\n",
    "        if len(rev) > 1 :\n",
    "            review_total.append(rev)\n",
    "            \n",
    "print('number of reviews : ', len(review_total))"
   ]
  },
  {
   "cell_type": "code",
   "execution_count": 275,
   "metadata": {},
   "outputs": [],
   "source": [
    "del review_ko"
   ]
  },
  {
   "cell_type": "code",
   "execution_count": 276,
   "metadata": {},
   "outputs": [
    {
     "data": {
      "text/plain": [
       "[3,\n",
       " '위치 하나는 정말 최고였어요!\\n빠른 응답도 좋았습니다. 화장실은 다만 세탁기때문에 좀 많이 좁더라구요 :)\\n다리미까지 구비되어 있는 센스 좋았어요.']"
      ]
     },
     "execution_count": 276,
     "metadata": {},
     "output_type": "execute_result"
    }
   ],
   "source": [
    "review_total[0]"
   ]
  },
  {
   "cell_type": "code",
   "execution_count": 277,
   "metadata": {},
   "outputs": [
    {
     "data": {
      "text/plain": [
       "'위치 하나는 정말 최고였어요!\\n빠른 응답도 좋았습니다. 화장실은 다만 세탁기때문에 좀 많이 좁더라구요 :)\\n다리미까지 구비되어 있는 센스 좋았어요.'"
      ]
     },
     "execution_count": 277,
     "metadata": {},
     "output_type": "execute_result"
    }
   ],
   "source": [
    "sen = review_total[0]\n",
    "re.sub('[a-zA-Z]' , '', sen[1])"
   ]
  },
  {
   "cell_type": "code",
   "execution_count": 214,
   "metadata": {},
   "outputs": [
    {
     "data": {
      "text/plain": [
       "'위치 하나는 정말 최고였어요빠른 응답도 좋았습니다 화장실은 다만 세탁기때문에 좀 많이 좁더라구요 다리미까지 구비되어 있는 센스 좋았어요'"
      ]
     },
     "execution_count": 214,
     "metadata": {},
     "output_type": "execute_result"
    }
   ],
   "source": [
    "import re\n",
    "hangul = re.compile('[^ ㄱ-ㅣ가-힣]+') # 한글과 띄어쓰기를 제외한 모든 글자\n",
    "hangul.sub('', sen[1])"
   ]
  },
  {
   "cell_type": "code",
   "execution_count": 5,
   "metadata": {},
   "outputs": [
    {
     "name": "stderr",
     "output_type": "stream",
     "text": [
      "/usr/local/lib/python3.5/dist-packages/konlpy/tag/_okt.py:16: UserWarning: \"Twitter\" has changed to \"Okt\" since KoNLPy v0.4.5.\n",
      "  warn('\"Twitter\" has changed to \"Okt\" since KoNLPy v0.4.5.')\n"
     ]
    }
   ],
   "source": [
    "from konlpy.tag import Twitter, Kkma, Okt\n",
    "twitter = Twitter()\n",
    "kkma = Kkma()\n",
    "okt = Okt()"
   ]
  },
  {
   "cell_type": "code",
   "execution_count": 278,
   "metadata": {},
   "outputs": [
    {
     "data": {
      "text/plain": [
       "[3,\n",
       " '위치 하나는 정말 최고였어요!\\n빠른 응답도 좋았습니다. 화장실은 다만 세탁기때문에 좀 많이 좁더라구요 :)\\n다리미까지 구비되어 있는 센스 좋았어요.']"
      ]
     },
     "execution_count": 278,
     "metadata": {},
     "output_type": "execute_result"
    }
   ],
   "source": [
    "review_total[0]"
   ]
  },
  {
   "cell_type": "code",
   "execution_count": 279,
   "metadata": {},
   "outputs": [],
   "source": [
    "review_split_sen = review_total.copy()\n",
    "for rev in review_split_sen :\n",
    "    rev[1] = kkma.sentences(rev[1])"
   ]
  },
  {
   "cell_type": "code",
   "execution_count": 216,
   "metadata": {},
   "outputs": [
    {
     "data": {
      "text/plain": [
       "[3,\n",
       " ['위치 하나는 정말 최고였어요!',\n",
       "  '빠른 응답도 좋았습니다.',\n",
       "  '화장실은 다만 세탁기 때문에 좀 많이 좁더라구요',\n",
       "  ':) 다리 미까지 구비되어 있는 센스 좋았어요.']]"
      ]
     },
     "execution_count": 216,
     "metadata": {},
     "output_type": "execute_result"
    }
   ],
   "source": [
    "review_split_sen[0]"
   ]
  },
  {
   "cell_type": "code",
   "execution_count": 280,
   "metadata": {},
   "outputs": [],
   "source": [
    "hangul = re.compile('[^ ㄱ-ㅣ가-힣]+') # 한글과 띄어쓰기를 제외한 모든 글자\n",
    "\n",
    "for rev in review_split_sen : \n",
    "    sen_lst = []\n",
    "    for r in rev[1] :\n",
    "        sen = hangul.sub('', r)\n",
    "        sen = sen.strip().replace(\"ㅎ\", \"\").replace(\"ㅠ\", \"\").replace(\"ㅜ\", \"\")\n",
    "        if len(sen) > 1 :\n",
    "            sen_lst.append(sen)\n",
    "        rev[1] = sen_lst    "
   ]
  },
  {
   "cell_type": "code",
   "execution_count": 281,
   "metadata": {},
   "outputs": [
    {
     "data": {
      "text/plain": [
       "[3,\n",
       " ['위치 하나는 정말 최고였어요',\n",
       "  '빠른 응답도 좋았습니다',\n",
       "  '화장실은 다만 세탁기 때문에 좀 많이 좁더라구요',\n",
       "  '다리 미까지 구비되어 있는 센스 좋았어요']]"
      ]
     },
     "execution_count": 281,
     "metadata": {},
     "output_type": "execute_result"
    }
   ],
   "source": [
    "review_split_sen[0]"
   ]
  },
  {
   "cell_type": "code",
   "execution_count": 282,
   "metadata": {},
   "outputs": [],
   "source": [
    "with open('review_split_sen.json','w',encoding='utf-8') as fp:\n",
    "        json.dump(review_split_sen,fp)"
   ]
  },
  {
   "cell_type": "code",
   "execution_count": 200,
   "metadata": {},
   "outputs": [
    {
     "name": "stdout",
     "output_type": "stream",
     "text": [
      "['먹다', '먹는다', '먹었다', '먹였다', '먹었더라구요']\n",
      "['먹', '다', '먹', '는', '다', '먹', '었', '다', '먹이', '었', '다', '먹', '었', '더', '라구요']\n",
      "['먹다', '먹는다', '먹었다', '먹였다', '먹었더라구요']\n"
     ]
    }
   ],
   "source": [
    "ex = '먹다 먹는다 먹었다 먹였다 먹었더라구요'\n",
    "\n",
    "print(twitter.morphs(ex))\n",
    "print(kkma.morphs(ex))\n",
    "print(okt.morphs(ex))"
   ]
  },
  {
   "cell_type": "code",
   "execution_count": 202,
   "metadata": {},
   "outputs": [
    {
     "data": {
      "text/plain": [
       "[('먹', 'VV'),\n",
       " ('다', 'ECS'),\n",
       " ('먹', 'VV'),\n",
       " ('는', 'EPT'),\n",
       " ('다', 'ECS'),\n",
       " ('먹', 'VV'),\n",
       " ('었', 'EPT'),\n",
       " ('다', 'ECS'),\n",
       " ('먹이', 'VV'),\n",
       " ('었', 'EPT'),\n",
       " ('다', 'ECS'),\n",
       " ('먹', 'VV'),\n",
       " ('었', 'EPT'),\n",
       " ('더', 'EPT'),\n",
       " ('라구요', 'EFN')]"
      ]
     },
     "execution_count": 202,
     "metadata": {},
     "output_type": "execute_result"
    }
   ],
   "source": [
    "kkma.pos(ex)"
   ]
  },
  {
   "cell_type": "code",
   "execution_count": 13,
   "metadata": {},
   "outputs": [],
   "source": [
    "with open('review_split_sen.json') as data_file:    \n",
    "    review_split_sen = json.load(data_file)"
   ]
  },
  {
   "cell_type": "code",
   "execution_count": 14,
   "metadata": {},
   "outputs": [],
   "source": [
    "for rev in review_split_sen : \n",
    "    sen_lst = []\n",
    "    for r in rev[1] :\n",
    "        sen = kkma.pos(r)\n",
    "        sen_lst.append(sen)\n",
    "    rev[1] = sen_lst "
   ]
  },
  {
   "cell_type": "code",
   "execution_count": 285,
   "metadata": {},
   "outputs": [
    {
     "data": {
      "text/plain": [
       "{'EC': '연결 어미',\n",
       " 'ECD': '의존적 연결 어미',\n",
       " 'ECE': '대등 연결 어미',\n",
       " 'ECS': '보조적 연결 어미',\n",
       " 'EF': '종결 어미',\n",
       " 'EFA': '청유형 종결 어미',\n",
       " 'EFI': '감탄형 종결 어미',\n",
       " 'EFN': '평서형 종결 어미',\n",
       " 'EFO': '명령형 종결 어미',\n",
       " 'EFQ': '의문형 종결 어미',\n",
       " 'EFR': '존칭형 종결 어미',\n",
       " 'EP': '선어말 어미',\n",
       " 'EPH': '존칭 선어말 어미',\n",
       " 'EPP': '공손 선어말 어미',\n",
       " 'EPT': '시제 선어말 어미',\n",
       " 'ET': '전성 어미',\n",
       " 'ETD': '관형형 전성 어미',\n",
       " 'ETN': '명사형 전성 어미',\n",
       " 'IC': '감탄사',\n",
       " 'JC': '접속 조사',\n",
       " 'JK': '조사',\n",
       " 'JKC': '보격 조사',\n",
       " 'JKG': '관형격 조사',\n",
       " 'JKI': '호격 조사',\n",
       " 'JKM': '부사격 조사',\n",
       " 'JKO': '목적격 조사',\n",
       " 'JKQ': '인용격 조사',\n",
       " 'JKS': '주격 조사',\n",
       " 'JX': '보조사',\n",
       " 'MA': '부사',\n",
       " 'MAC': '접속 부사',\n",
       " 'MAG': '일반 부사',\n",
       " 'MD': '관형사',\n",
       " 'MDN': '수 관형사',\n",
       " 'MDT': '일반 관형사',\n",
       " 'NN': '명사',\n",
       " 'NNB': '일반 의존 명사',\n",
       " 'NNG': '보통명사',\n",
       " 'NNM': '단위 의존 명사',\n",
       " 'NNP': '고유명사',\n",
       " 'NP': '대명사',\n",
       " 'NR': '수사',\n",
       " 'OH': '한자',\n",
       " 'OL': '외국어',\n",
       " 'ON': '숫자',\n",
       " 'SE': '줄임표',\n",
       " 'SF': '마침표, 물음표, 느낌표',\n",
       " 'SO': '붙임표(물결,숨김,빠짐)',\n",
       " 'SP': '쉼표,가운뎃점,콜론,빗금',\n",
       " 'SS': '따옴표,괄호표,줄표',\n",
       " 'SW': '기타기호 (논리수학기호,화폐기호)',\n",
       " 'UN': '명사추정범주',\n",
       " 'VA': '형용사',\n",
       " 'VC': '지정사',\n",
       " 'VCN': \"부정 지정사, 형용사 '아니다'\",\n",
       " 'VCP': \"긍정 지정사, 서술격 조사 '이다'\",\n",
       " 'VV': '동사',\n",
       " 'VX': '보조 용언',\n",
       " 'VXA': '보조 형용사',\n",
       " 'VXV': '보조 동사',\n",
       " 'XP': '접두사',\n",
       " 'XPN': '체언 접두사',\n",
       " 'XPV': '용언 접두사',\n",
       " 'XR': '어근',\n",
       " 'XSA': '형용사 파생 접미사',\n",
       " 'XSN': '명사파생 접미사',\n",
       " 'XSV': '동사 파생 접미사'}"
      ]
     },
     "execution_count": 285,
     "metadata": {},
     "output_type": "execute_result"
    }
   ],
   "source": [
    "kkma.tagset # 'Noun': '명사' / 'Adjective': '형용사' /  'Verb': '동사'"
   ]
  },
  {
   "cell_type": "code",
   "execution_count": 203,
   "metadata": {},
   "outputs": [
    {
     "data": {
      "text/plain": [
       "[3,\n",
       " [[('위치', 'Noun'),\n",
       "   ('하나', 'Noun'),\n",
       "   ('는', 'Josa'),\n",
       "   ('정말', 'Noun'),\n",
       "   ('최고', 'Noun'),\n",
       "   ('였어요', 'Verb')],\n",
       "  [('빠른', 'Adjective'), ('응답', 'Noun'), ('도', 'Josa'), ('좋았습니다', 'Adjective')],\n",
       "  [('화장실', 'Noun'),\n",
       "   ('은', 'Josa'),\n",
       "   ('다만', 'Noun'),\n",
       "   ('세탁기', 'Noun'),\n",
       "   ('때문', 'Noun'),\n",
       "   ('에', 'Josa'),\n",
       "   ('좀', 'Noun'),\n",
       "   ('많이', 'Adverb'),\n",
       "   ('좁더라구요', 'Adjective')],\n",
       "  [('다리', 'Noun'),\n",
       "   ('미까지', 'Adjective'),\n",
       "   ('구비', 'Noun'),\n",
       "   ('되어', 'Verb'),\n",
       "   ('있는', 'Adjective'),\n",
       "   ('센스', 'Noun'),\n",
       "   ('좋았어요', 'Adjective')]]]"
      ]
     },
     "execution_count": 203,
     "metadata": {},
     "output_type": "execute_result"
    }
   ],
   "source": [
    "review_split_sen[0] # twitter"
   ]
  },
  {
   "cell_type": "code",
   "execution_count": 284,
   "metadata": {},
   "outputs": [
    {
     "data": {
      "text/plain": [
       "[3,\n",
       " [[('위치', 'NNG'),\n",
       "   ('하나', 'NR'),\n",
       "   ('는', 'JX'),\n",
       "   ('정말', 'MAG'),\n",
       "   ('최고', 'NNG'),\n",
       "   ('이', 'VCP'),\n",
       "   ('었', 'EPT'),\n",
       "   ('어요', 'EFN')],\n",
       "  [('빠르', 'VA'),\n",
       "   ('ㄴ', 'ETD'),\n",
       "   ('응답', 'NNG'),\n",
       "   ('도', 'JX'),\n",
       "   ('좋', 'VA'),\n",
       "   ('았', 'EPT'),\n",
       "   ('습니다', 'EFN')],\n",
       "  [('화장실', 'NNG'),\n",
       "   ('은', 'JX'),\n",
       "   ('다만', 'MAG'),\n",
       "   ('세탁기', 'NNG'),\n",
       "   ('때문', 'NNB'),\n",
       "   ('에', 'JKM'),\n",
       "   ('좀', 'MAG'),\n",
       "   ('많이', 'MAG'),\n",
       "   ('좁', 'VA'),\n",
       "   ('더', 'EPT'),\n",
       "   ('라구요', 'EFN')],\n",
       "  [('다리', 'NNG'),\n",
       "   ('미', 'NNG'),\n",
       "   ('까지', 'JX'),\n",
       "   ('구비', 'NNG'),\n",
       "   ('되', 'XSV'),\n",
       "   ('어', 'ECD'),\n",
       "   ('있', 'VXV'),\n",
       "   ('는', 'ETD'),\n",
       "   ('센스', 'NNG'),\n",
       "   ('좋', 'VA'),\n",
       "   ('았', 'EPT'),\n",
       "   ('어요', 'EFN')]]]"
      ]
     },
     "execution_count": 284,
     "metadata": {},
     "output_type": "execute_result"
    }
   ],
   "source": [
    "review_split_sen[0] # kkma"
   ]
  },
  {
   "cell_type": "code",
   "execution_count": 290,
   "metadata": {},
   "outputs": [
    {
     "name": "stdout",
     "output_type": "stream",
     "text": [
      "위치\n",
      "최고\n",
      "빠르\n",
      "응답\n",
      "좋\n",
      "화장실\n",
      "세탁기\n",
      "좁\n",
      "다리\n",
      "미\n",
      "구비\n",
      "센스\n",
      "좋\n"
     ]
    }
   ],
   "source": [
    "for sen in review_split_sen[0][1] :\n",
    "    for (word,pos) in sen :\n",
    "        if pos in ['NNG','VA'] :\n",
    "            print(word)"
   ]
  },
  {
   "cell_type": "code",
   "execution_count": 69,
   "metadata": {},
   "outputs": [],
   "source": [
    "#  'NN': '명사', 'NNG': '보통명사', 'NNP': '고유명사', 'NP': '대명사',\n",
    "#  'VA': '형용사', 'VV': '동사',\n",
    "#  'XR': '어근'\n",
    "\n",
    "for rev in review_split_sen : \n",
    "    sen_lst = []\n",
    "    for sen in rev[1] :\n",
    "        w_lst = []\n",
    "        for (word,pos) in sen :\n",
    "            if pos in ['NN','NNG','NNP','NP','VA','VV','XR'] :\n",
    "                w_lst.append(word)\n",
    "        sen_lst.append(w_lst)\n",
    "        rev[1] = sen_lst"
   ]
  },
  {
   "cell_type": "code",
   "execution_count": 71,
   "metadata": {},
   "outputs": [],
   "source": [
    "with open('review_NV.json','w',encoding='utf-8') as fp:\n",
    "        json.dump(review_split_sen,fp)"
   ]
  },
  {
   "cell_type": "code",
   "execution_count": null,
   "metadata": {},
   "outputs": [],
   "source": []
  }
 ],
 "metadata": {
  "kernelspec": {
   "display_name": "Python [default]",
   "language": "python",
   "name": "python3"
  },
  "language_info": {
   "codemirror_mode": {
    "name": "ipython",
    "version": 3
   },
   "file_extension": ".py",
   "mimetype": "text/x-python",
   "name": "python",
   "nbconvert_exporter": "python",
   "pygments_lexer": "ipython3",
   "version": "3.7.0"
  }
 },
 "nbformat": 4,
 "nbformat_minor": 2
}
