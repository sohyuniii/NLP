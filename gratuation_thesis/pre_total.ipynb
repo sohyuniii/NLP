{
 "cells": [
  {
   "cell_type": "code",
   "execution_count": 1,
   "metadata": {},
   "outputs": [],
   "source": [
    "import json\n",
    "import os\n",
    "from collections import Counter\n",
    "import pandas as pd\n",
    "import numpy as np\n",
    "import glob"
   ]
  },
  {
   "cell_type": "code",
   "execution_count": 10,
   "metadata": {},
   "outputs": [
    {
     "data": {
      "text/plain": [
       "['./data/review_jeonju_13647.json',\n",
       " './data/review_daegu_33689.json',\n",
       " './data/review_yeosu.json',\n",
       " './data/review_Gangneung-si.json',\n",
       " './data/review_jeju_143957.json',\n",
       " './data/review_daejeon.json',\n",
       " './data/review_gwangju.json',\n",
       " './data/review_seogwipo_51728.json',\n",
       " './data/review_seoul_326990.json']"
      ]
     },
     "execution_count": 10,
     "metadata": {},
     "output_type": "execute_result"
    }
   ],
   "source": [
    "review_lst = glob.glob('./data/*.json')\n",
    "review_lst"
   ]
  },
  {
   "cell_type": "code",
   "execution_count": 16,
   "metadata": {},
   "outputs": [
    {
     "name": "stdout",
     "output_type": "stream",
     "text": [
      "ko_review_jeonju_13647.json\n",
      "ko_review_daegu_33689.json\n",
      "ko_review_yeosu.json\n",
      "ko_review_Gangneung-si.json\n",
      "ko_review_jeju_143957.json\n",
      "ko_review_daejeon.json\n",
      "ko_review_gwangju.json\n",
      "ko_review_seogwipo_51728.json\n",
      "ko_review_seoul_326990.json\n"
     ]
    }
   ],
   "source": [
    "for file in review_lst:\n",
    "    with open(file,'r',encoding='utf-8') as fp:\n",
    "        review = json.load(fp) \n",
    "        \n",
    "        review_ko = {}\n",
    "        for home_id,rev_lst in review.items():\n",
    "            review_ko[home_id] = []\n",
    "            for rev in rev_lst:\n",
    "                if  rev['language']=='ko':\n",
    "                    if rev['rating'] > 0 :\n",
    "                        review_ko[home_id].append([rev['rating'],rev['comments']])\n",
    "                else:\n",
    "                    continue\n",
    "    new_file = 'ko_' + file[7:]\n",
    "    print(new_file)              \n",
    "    with open(new_file,'w',encoding='utf-8') as fp:\n",
    "        json.dump(review_ko,fp)"
   ]
  },
  {
   "cell_type": "code",
   "execution_count": null,
   "metadata": {},
   "outputs": [],
   "source": []
  }
 ],
 "metadata": {
  "kernelspec": {
   "display_name": "Python 3",
   "language": "python",
   "name": "python3"
  },
  "language_info": {
   "codemirror_mode": {
    "name": "ipython",
    "version": 3
   },
   "file_extension": ".py",
   "mimetype": "text/x-python",
   "name": "python",
   "nbconvert_exporter": "python",
   "pygments_lexer": "ipython3",
   "version": "3.5.2"
  }
 },
 "nbformat": 4,
 "nbformat_minor": 2
}
