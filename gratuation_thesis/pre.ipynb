{
 "cells": [
  {
   "cell_type": "code",
   "execution_count": 1,
   "metadata": {},
   "outputs": [],
   "source": [
    "import json\n",
    "import os\n",
    "from collections import Counter\n",
    "import pandas as pd\n",
    "import numpy as np\n",
    "import glob\n",
    "import matplotlib.pyplot as plt\n",
    "import seaborn as sns"
   ]
  },
  {
   "cell_type": "code",
   "execution_count": 3,
   "metadata": {},
   "outputs": [
    {
     "data": {
      "text/plain": [
       "['review_seoul1.json']"
      ]
     },
     "execution_count": 3,
     "metadata": {},
     "output_type": "execute_result"
    }
   ],
   "source": [
    "review_lst = glob.glob('*.json')\n",
    "review_lst"
   ]
  },
  {
   "cell_type": "code",
   "execution_count": 4,
   "metadata": {},
   "outputs": [],
   "source": [
    "review = {}\n",
    "for file in review_lst:\n",
    "    with open(file,'r',encoding='utf-8') as fp:\n",
    "        review.update(json.load(fp))"
   ]
  },
  {
   "cell_type": "code",
   "execution_count": 5,
   "metadata": {},
   "outputs": [
    {
     "data": {
      "text/plain": [
       "4997"
      ]
     },
     "execution_count": 5,
     "metadata": {},
     "output_type": "execute_result"
    }
   ],
   "source": [
    "len(review.keys())  # 숙소id 개수"
   ]
  },
  {
   "cell_type": "code",
   "execution_count": 16,
   "metadata": {},
   "outputs": [
    {
     "data": {
      "text/plain": [
       "{'collection_tag': None,\n",
       " 'comments': ' 아무래도 가정집에서 직접 게스트하우스를 운영하셔서 그런지 보통의 상업적인 게스트하우스에 비해 체계적으로 운영된다던가 꼼꼼히 관리되는 느낌이 부족한게 살짝 아쉬웠는데,\\r\\n 보통 게스트하우스에 있을법한 커피믹스,빗,면봉이 없다던가, 세탁기 연결이 안되어 있다던가, 이불은 따듯했지만 이불커버가 없어서 세탁이 용이해 보이지는 않는 등.. 몇가지 눈에 띄는것들이 있더라는..\\r\\n\\r\\n 그러나 다음에 또 방문할 의사가 있냐고 묻는다면.. 네 ㅋ\\r\\n\\r\\n 여름이나 가을철 날씨가 포근할때, 일주일정도 푹~묵으면서 천천히 서울 구경도하고, 피곤하면 집에서 뒹굴거리며 느긋하게 여행을 즐기기에 이만큼 편한곳을 찾기는 쉽지 않을것 같다는 생각.\\r\\n\\r\\n 일단 가정집이라서 방과 거실,화장실이 가까워 이용이 편하고, 2층 전체를 게스트하우스로 사용중이라 1층 주인집과 분리된 사적인 공간처럼 느껴져서 상당히 편했다는.. (사실 처음 예약할땐 방하나를 빌려주는줄 알았는데, 오히려 2층이 2인룸, 도미토리로 전체가 게스트하우스라 더 편했던)\\r\\n 뭐 여행객이 더 많으면 좀 북적대긴 할것같지만, 거실 분위기가 완전 가정집이라 오손도손 모여서 이야기 나누기는 좋을것 같더라는..\\r\\n\\r\\n 다른 게스트하우스에 비하면 위치가 좀 외진편이긴 한데, 오히려 주택가라서 한적하고 조용히 쉴수있어서 좋고, 조금만 걸어 내려가면 있는 정릉시장을 잘 이용하면 편의점보다 저렴한 가격에 다양한 식재료를 조달 할수있어서 좋다는걸 마지막날 알게된..\\r\\n(제가 한국인이긴 하지만 이동네는 처음이니 이런부분은 미리 알려주셨으면 좋을것 같다는 ㅎ)\\r\\n\\r\\n 관광하기에는 주변에 북한산도 있고 종로,동대문,남산,이태원,대학로 등이 가깝고 (정릉능은 의외로 볼게 없더라는..), 서울의 교통편이 워낙 좋다보니 여의도,홍대,서울역,강남 까지도 둘러보는데도 크게 불편함은 없었고, 개인적으로 지하철 보다는 버스를 이용하는편이 더 좋더라는.. 저녁에 여행을 마치고 돌아올때 가로등 비취는 주택가 골목을 걷고있으면 마치 집에 돌아가는 느낌이랄까.. -0-\\r\\n\\r\\n 40년된 집이라는데 문이라던가 곳곳에 세월의 흔적이 있는편이지만 전체적으로 깔끔하게 관리된 편이라 크게 불편한점은 없었는데, \\r\\n 다만 싱크대 공간이 좁다거나, 화장실 발판이 높아서 응가할때 자세가 약간 엉성하게 수구려진다거나하는 미세하게 불편한 부분들이 있던데.. 아마 주인분이 2층에서 생활을 안하셔서 그런것 같기도하고, 가끔은 2층에서 직접생활하면서 불편한 부분들을 찾아내시는것도 좋을것 같다는 생각이 살짝.. :)\\r\\n\\r\\n 아무튼 결론은 위치때문에 살짝 고민을 좀 했는데 별로 불편한건 없었고, 가격도 괜찮고, 주인 내외분도 인상좋고 친절하시고, 집이나 동네 분위기가 편해서 장기간 머물기에 좋은곳 같다로 마무리~',\n",
       " 'created_at': '2016-03-02T17:51:12Z',\n",
       " 'id': 64344102,\n",
       " 'language': 'ko',\n",
       " 'localized_date': '2016년 3월',\n",
       " 'rating': 4,\n",
       " 'response': '여러가지로 꼼꼼히 보셨군요^^\\r\\n사실은 이층에서 저희가 살았었어도  오래 살다보니 잊어버리고 살았답니다\\r\\n여러가지로 지적을해주시니  저희가개선을  할수가 있겠군요\\r\\n제가 못느꼈던것  감사하게  생각하고 고쳐나갈게요~\\r\\n\\r\\n',\n",
       " 'reviewee': {'deleted': False,\n",
       "  'first_name': '경옥',\n",
       "  'host_name': '경옥',\n",
       "  'id': 47670854,\n",
       "  'is_superhost': False,\n",
       "  'picture_url': 'https://a0.muscache.com/im/pictures/3f00e243-8970-4c98-8780-b2b81a5d7428.jpg?aki_policy=profile_x_medium',\n",
       "  'profile_path': '/users/show/47670854'},\n",
       " 'reviewer': {'deleted': False,\n",
       "  'first_name': 'Badaro',\n",
       "  'host_name': 'Badaro',\n",
       "  'id': 24315525,\n",
       "  'is_superhost': False,\n",
       "  'picture_url': 'https://a0.muscache.com/im/pictures/2b5f329b-06c6-4336-905d-e60cc86d4383.jpg?aki_policy=profile_x_medium',\n",
       "  'profile_path': '/users/show/24315525'}}"
      ]
     },
     "execution_count": 16,
     "metadata": {},
     "output_type": "execute_result"
    }
   ],
   "source": [
    "review['10003340'][7]"
   ]
  },
  {
   "cell_type": "code",
   "execution_count": 19,
   "metadata": {},
   "outputs": [],
   "source": [
    "review_ko = {}\n",
    "\n",
    "for home_id,rev_lst in review.items():\n",
    "    review_ko[home_id] = []\n",
    "    for rev in rev_lst:\n",
    "        if  rev['language']=='ko':\n",
    "            review_ko[home_id].append([rev['rating'],rev['comments']])\n",
    "        else:\n",
    "            continue"
   ]
  },
  {
   "cell_type": "code",
   "execution_count": 22,
   "metadata": {},
   "outputs": [
    {
     "data": {
      "text/plain": [
       "[[4,\n",
       "  ' 아무래도 가정집에서 직접 게스트하우스를 운영하셔서 그런지 보통의 상업적인 게스트하우스에 비해 체계적으로 운영된다던가 꼼꼼히 관리되는 느낌이 부족한게 살짝 아쉬웠는데,\\r\\n 보통 게스트하우스에 있을법한 커피믹스,빗,면봉이 없다던가, 세탁기 연결이 안되어 있다던가, 이불은 따듯했지만 이불커버가 없어서 세탁이 용이해 보이지는 않는 등.. 몇가지 눈에 띄는것들이 있더라는..\\r\\n\\r\\n 그러나 다음에 또 방문할 의사가 있냐고 묻는다면.. 네 ㅋ\\r\\n\\r\\n 여름이나 가을철 날씨가 포근할때, 일주일정도 푹~묵으면서 천천히 서울 구경도하고, 피곤하면 집에서 뒹굴거리며 느긋하게 여행을 즐기기에 이만큼 편한곳을 찾기는 쉽지 않을것 같다는 생각.\\r\\n\\r\\n 일단 가정집이라서 방과 거실,화장실이 가까워 이용이 편하고, 2층 전체를 게스트하우스로 사용중이라 1층 주인집과 분리된 사적인 공간처럼 느껴져서 상당히 편했다는.. (사실 처음 예약할땐 방하나를 빌려주는줄 알았는데, 오히려 2층이 2인룸, 도미토리로 전체가 게스트하우스라 더 편했던)\\r\\n 뭐 여행객이 더 많으면 좀 북적대긴 할것같지만, 거실 분위기가 완전 가정집이라 오손도손 모여서 이야기 나누기는 좋을것 같더라는..\\r\\n\\r\\n 다른 게스트하우스에 비하면 위치가 좀 외진편이긴 한데, 오히려 주택가라서 한적하고 조용히 쉴수있어서 좋고, 조금만 걸어 내려가면 있는 정릉시장을 잘 이용하면 편의점보다 저렴한 가격에 다양한 식재료를 조달 할수있어서 좋다는걸 마지막날 알게된..\\r\\n(제가 한국인이긴 하지만 이동네는 처음이니 이런부분은 미리 알려주셨으면 좋을것 같다는 ㅎ)\\r\\n\\r\\n 관광하기에는 주변에 북한산도 있고 종로,동대문,남산,이태원,대학로 등이 가깝고 (정릉능은 의외로 볼게 없더라는..), 서울의 교통편이 워낙 좋다보니 여의도,홍대,서울역,강남 까지도 둘러보는데도 크게 불편함은 없었고, 개인적으로 지하철 보다는 버스를 이용하는편이 더 좋더라는.. 저녁에 여행을 마치고 돌아올때 가로등 비취는 주택가 골목을 걷고있으면 마치 집에 돌아가는 느낌이랄까.. -0-\\r\\n\\r\\n 40년된 집이라는데 문이라던가 곳곳에 세월의 흔적이 있는편이지만 전체적으로 깔끔하게 관리된 편이라 크게 불편한점은 없었는데, \\r\\n 다만 싱크대 공간이 좁다거나, 화장실 발판이 높아서 응가할때 자세가 약간 엉성하게 수구려진다거나하는 미세하게 불편한 부분들이 있던데.. 아마 주인분이 2층에서 생활을 안하셔서 그런것 같기도하고, 가끔은 2층에서 직접생활하면서 불편한 부분들을 찾아내시는것도 좋을것 같다는 생각이 살짝.. :)\\r\\n\\r\\n 아무튼 결론은 위치때문에 살짝 고민을 좀 했는데 별로 불편한건 없었고, 가격도 괜찮고, 주인 내외분도 인상좋고 친절하시고, 집이나 동네 분위기가 편해서 장기간 머물기에 좋은곳 같다로 마무리~'],\n",
       " [5, '숙소설명을 친절하고 자세하게 해주셔서 쉽게 찾아갈 수 있었고, 가족처럼 따뜻하게 맞이해주셔서 편안하게 여행하고 왔습니다~']]"
      ]
     },
     "execution_count": 22,
     "metadata": {},
     "output_type": "execute_result"
    }
   ],
   "source": [
    "review_ko['10003340']"
   ]
  },
  {
   "cell_type": "code",
   "execution_count": null,
   "metadata": {},
   "outputs": [],
   "source": []
  }
 ],
 "metadata": {
  "kernelspec": {
   "display_name": "Python [default]",
   "language": "python",
   "name": "python3"
  },
  "language_info": {
   "codemirror_mode": {
    "name": "ipython",
    "version": 3
   },
   "file_extension": ".py",
   "mimetype": "text/x-python",
   "name": "python",
   "nbconvert_exporter": "python",
   "pygments_lexer": "ipython3",
   "version": "3.7.0"
  }
 },
 "nbformat": 4,
 "nbformat_minor": 2
}
